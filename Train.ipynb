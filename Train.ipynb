{
 "cells": [
  {
   "cell_type": "code",
   "execution_count": 88,
   "metadata": {},
   "outputs": [],
   "source": [
    "import numpy as np\n",
    "import numpy as np\n",
    "from scipy.sparse import coo_matrix\n",
    "import fast_matrix_market as fmm\n",
    "from sklearn.linear_model import LogisticRegression\n",
    "from sklearn.linear_model import LinearRegression\n",
    "from sklearn import svm\n",
    "from sklearn.naive_bayes import GaussianNB\n",
    "from sklearn import tree\n",
    "\n",
    "params = [[150, 0.95], [200, 0.95], [300, 0.85], [400, 0.6], [500, 0.6], [1000, 0.4], [1500, 0.4]]"
   ]
  },
  {
   "cell_type": "code",
   "execution_count": 63,
   "metadata": {},
   "outputs": [],
   "source": [
    "def get_graph_lists(graph): # Преобразование графа в список и получение списков смежности и степеней для вершин\n",
    "    graph = list(graph)\n",
    "    for i in range(len(graph)):\n",
    "        graph[i] = list(graph[i])\n",
    "\n",
    "    adj_list = {}\n",
    "    degrees = {}\n",
    "    for i in range(len(graph)):\n",
    "        temp = []\n",
    "        degree = 0\n",
    "        for j in range(len(graph)):\n",
    "            if graph[i][j] == 1.0:\n",
    "                degree += 1\n",
    "                temp.append(j)\n",
    "        adj_list[i] = temp\n",
    "        degrees[i] = degree\n",
    "\n",
    "    degrees = {k: v for k, v in sorted(degrees.items(), key=lambda item: item[1], reverse = True)}\n",
    "    return degrees, adj_list"
   ]
  },
  {
   "cell_type": "code",
   "execution_count": 64,
   "metadata": {},
   "outputs": [],
   "source": [
    "def greedy_search(degrees, adj_list, graph): #Жадный поиск\n",
    "    candidates = list(degrees.keys())\n",
    "    clique = [candidates[0]]\n",
    "\n",
    "    while True:\n",
    "        candidate_index = 0 \n",
    "        to_drop = []\n",
    "\n",
    "        #print(clique, candidates)\n",
    "\n",
    "        for candidate in candidates: #Перестроение списка кандидатов\n",
    "            for vertex in clique:\n",
    "                if graph[vertex][candidate] == 0:\n",
    "                    to_drop.append(candidate_index)\n",
    "                    break\n",
    "                \n",
    "            candidate_index += 1\n",
    "\n",
    "        candidates = [i for j, i in enumerate(candidates) if j not in to_drop]\n",
    "        \n",
    "        if len(candidates) == 0: #Если кандидаты ещё есть - добавление в клику лучшего, иначе завершение программы\n",
    "            break\n",
    "        clique.append(candidates[0])\n",
    "\n",
    "    return clique"
   ]
  },
  {
   "cell_type": "code",
   "execution_count": 65,
   "metadata": {},
   "outputs": [],
   "source": [
    "def greedy_coloring(adj_list): #Жадное окрашивание\n",
    "    vertices = sorted(list(adj_list.keys()))\n",
    "    colour_graph = {}\n",
    "\n",
    "    for vertex in vertices:\n",
    "        unused_colours = len(vertices) * [True] #Список неиспользованных цветов\n",
    "\n",
    "        for neighbor in adj_list[vertex]: #Отмечаются все занятые соседями цвета\n",
    "            if neighbor in colour_graph:\n",
    "                colour = colour_graph[neighbor] \n",
    "                unused_colours[colour] = False\n",
    "\n",
    "        for colour, unused in enumerate(unused_colours): #Вершине присваивается первый незанятый цвет\n",
    "            if unused:\n",
    "                colour_graph[vertex] = colour\n",
    "                break\n",
    "\n",
    "    return colour_graph"
   ]
  },
  {
   "cell_type": "code",
   "execution_count": 66,
   "metadata": {},
   "outputs": [],
   "source": [
    "def get_graph_params(graph):\n",
    "    degrees, adj_list = get_graph_lists(graph)\n",
    "    greedy_clique = greedy_search(degrees, adj_list, graph)\n",
    "    colored = greedy_coloring(adj_list)\n",
    "\n",
    "    gs_res = len(greedy_clique)\n",
    "\n",
    "    gc_res = len(np.unique(list(colored.values())))\n",
    "\n",
    "    vertex_num = len(graph)\n",
    "\n",
    "    edges_num = 0\n",
    "    degrees_sum = []\n",
    "    for i in range(vertex_num):\n",
    "        for j in range(i, vertex_num):\n",
    "            if graph[i][j] > 0:\n",
    "                edges_num += 1\n",
    "                degrees_sum.append(degrees[i] + degrees[j])\n",
    "    density = edges_num / vertex_num\n",
    "\n",
    "    degrees_list = list(degrees.values())\n",
    "    min_deg = min(degrees_list)\n",
    "    max_deg = max(degrees_list)\n",
    "    mean_deg = np.mean(degrees_list)\n",
    "    std_deg = np.std(degrees_list)\n",
    "\n",
    "    deg_sum_max = max(degrees_sum)\n",
    "    deg_sum_min = min(degrees_sum)\n",
    "    deg_sum_mean = np.mean(degrees_sum)\n",
    "    deg_sum_std = np.std(degrees_sum)\n",
    "    \n",
    "    graph_params = []\n",
    "    graph_params.append(vertex_num)\n",
    "    graph_params.append(edges_num)\n",
    "    graph_params.append(density)\n",
    "    graph_params.append(min_deg)\n",
    "    graph_params.append(max_deg)\n",
    "    graph_params.append(mean_deg)\n",
    "    graph_params.append(std_deg)\n",
    "    graph_params.append(deg_sum_min)\n",
    "    graph_params.append(deg_sum_max)\n",
    "    graph_params.append(deg_sum_mean)\n",
    "    graph_params.append(deg_sum_std)\n",
    "    graph_params.append(gs_res)\n",
    "    graph_params.append(gc_res)\n",
    "\n",
    "    return graph_params"
   ]
  },
  {
   "cell_type": "code",
   "execution_count": 67,
   "metadata": {},
   "outputs": [],
   "source": [
    "features = []\n",
    "answers = []\n",
    "\n",
    "for i in range(len(params)):\n",
    "    limit = int(params[i][1] // 0.05)\n",
    "    for j in range(limit + 1):\n",
    "        possibility = min((j + 1) * 0.05, params[i][1])\n",
    "        filename = \"graphI\" + str(params[i][0]) + \"I\" + str(int(possibility * 100)) + \"I\"\n",
    "        serie_results = list(np.genfromtxt(\"resultsI\" + filename + \"9.csv\", delimiter = \" ,\"))\n",
    "        answers += serie_results\n",
    "        for k in range(10):\n",
    "            graph_params = list(np.genfromtxt(\"paramsI\" + filename + str(k) + \".csv\", delimiter = \" ,\"))\n",
    "            features.append(graph_params)"
   ]
  },
  {
   "cell_type": "code",
   "execution_count": 68,
   "metadata": {},
   "outputs": [],
   "source": [
    "(data, (rows, cols)), shape = fmm.read_coo(\"brock800-3.mtx\")\n",
    "graph = coo_matrix((data, (rows, cols)), shape).toarray()\n",
    "graph_params = get_graph_params(graph)"
   ]
  },
  {
   "cell_type": "code",
   "execution_count": 89,
   "metadata": {},
   "outputs": [
    {
     "data": {
      "text/html": [
       "<style>#sk-container-id-9 {color: black;}#sk-container-id-9 pre{padding: 0;}#sk-container-id-9 div.sk-toggleable {background-color: white;}#sk-container-id-9 label.sk-toggleable__label {cursor: pointer;display: block;width: 100%;margin-bottom: 0;padding: 0.3em;box-sizing: border-box;text-align: center;}#sk-container-id-9 label.sk-toggleable__label-arrow:before {content: \"▸\";float: left;margin-right: 0.25em;color: #696969;}#sk-container-id-9 label.sk-toggleable__label-arrow:hover:before {color: black;}#sk-container-id-9 div.sk-estimator:hover label.sk-toggleable__label-arrow:before {color: black;}#sk-container-id-9 div.sk-toggleable__content {max-height: 0;max-width: 0;overflow: hidden;text-align: left;background-color: #f0f8ff;}#sk-container-id-9 div.sk-toggleable__content pre {margin: 0.2em;color: black;border-radius: 0.25em;background-color: #f0f8ff;}#sk-container-id-9 input.sk-toggleable__control:checked~div.sk-toggleable__content {max-height: 200px;max-width: 100%;overflow: auto;}#sk-container-id-9 input.sk-toggleable__control:checked~label.sk-toggleable__label-arrow:before {content: \"▾\";}#sk-container-id-9 div.sk-estimator input.sk-toggleable__control:checked~label.sk-toggleable__label {background-color: #d4ebff;}#sk-container-id-9 div.sk-label input.sk-toggleable__control:checked~label.sk-toggleable__label {background-color: #d4ebff;}#sk-container-id-9 input.sk-hidden--visually {border: 0;clip: rect(1px 1px 1px 1px);clip: rect(1px, 1px, 1px, 1px);height: 1px;margin: -1px;overflow: hidden;padding: 0;position: absolute;width: 1px;}#sk-container-id-9 div.sk-estimator {font-family: monospace;background-color: #f0f8ff;border: 1px dotted black;border-radius: 0.25em;box-sizing: border-box;margin-bottom: 0.5em;}#sk-container-id-9 div.sk-estimator:hover {background-color: #d4ebff;}#sk-container-id-9 div.sk-parallel-item::after {content: \"\";width: 100%;border-bottom: 1px solid gray;flex-grow: 1;}#sk-container-id-9 div.sk-label:hover label.sk-toggleable__label {background-color: #d4ebff;}#sk-container-id-9 div.sk-serial::before {content: \"\";position: absolute;border-left: 1px solid gray;box-sizing: border-box;top: 0;bottom: 0;left: 50%;z-index: 0;}#sk-container-id-9 div.sk-serial {display: flex;flex-direction: column;align-items: center;background-color: white;padding-right: 0.2em;padding-left: 0.2em;position: relative;}#sk-container-id-9 div.sk-item {position: relative;z-index: 1;}#sk-container-id-9 div.sk-parallel {display: flex;align-items: stretch;justify-content: center;background-color: white;position: relative;}#sk-container-id-9 div.sk-item::before, #sk-container-id-9 div.sk-parallel-item::before {content: \"\";position: absolute;border-left: 1px solid gray;box-sizing: border-box;top: 0;bottom: 0;left: 50%;z-index: -1;}#sk-container-id-9 div.sk-parallel-item {display: flex;flex-direction: column;z-index: 1;position: relative;background-color: white;}#sk-container-id-9 div.sk-parallel-item:first-child::after {align-self: flex-end;width: 50%;}#sk-container-id-9 div.sk-parallel-item:last-child::after {align-self: flex-start;width: 50%;}#sk-container-id-9 div.sk-parallel-item:only-child::after {width: 0;}#sk-container-id-9 div.sk-dashed-wrapped {border: 1px dashed gray;margin: 0 0.4em 0.5em 0.4em;box-sizing: border-box;padding-bottom: 0.4em;background-color: white;}#sk-container-id-9 div.sk-label label {font-family: monospace;font-weight: bold;display: inline-block;line-height: 1.2em;}#sk-container-id-9 div.sk-label-container {text-align: center;}#sk-container-id-9 div.sk-container {/* jupyter's `normalize.less` sets `[hidden] { display: none; }` but bootstrap.min.css set `[hidden] { display: none !important; }` so we also need the `!important` here to be able to override the default hidden behavior on the sphinx rendered scikit-learn.org. See: https://github.com/scikit-learn/scikit-learn/issues/21755 */display: inline-block !important;position: relative;}#sk-container-id-9 div.sk-text-repr-fallback {display: none;}</style><div id=\"sk-container-id-9\" class=\"sk-top-container\"><div class=\"sk-text-repr-fallback\"><pre>DecisionTreeClassifier()</pre><b>In a Jupyter environment, please rerun this cell to show the HTML representation or trust the notebook. <br />On GitHub, the HTML representation is unable to render, please try loading this page with nbviewer.org.</b></div><div class=\"sk-container\" hidden><div class=\"sk-item\"><div class=\"sk-estimator sk-toggleable\"><input class=\"sk-toggleable__control sk-hidden--visually\" id=\"sk-estimator-id-9\" type=\"checkbox\" checked><label for=\"sk-estimator-id-9\" class=\"sk-toggleable__label sk-toggleable__label-arrow\">DecisionTreeClassifier</label><div class=\"sk-toggleable__content\"><pre>DecisionTreeClassifier()</pre></div></div></div></div></div>"
      ],
      "text/plain": [
       "DecisionTreeClassifier()"
      ]
     },
     "execution_count": 89,
     "metadata": {},
     "output_type": "execute_result"
    }
   ],
   "source": [
    "log_regr = LogisticRegression(solver='lbfgs', max_iter=10000, multi_class='ovr')\n",
    "log_regr.fit(features, answers)\n",
    "lin_regr = LinearRegression()\n",
    "lin_regr.fit(features, answers)\n",
    "svc = svm.SVC()\n",
    "svc.fit(features, answers)\n",
    "bayes = GaussianNB()\n",
    "bayes.fit(features, answers)\n",
    "trees = tree.DecisionTreeClassifier()\n",
    "trees.fit(features, answers)"
   ]
  },
  {
   "cell_type": "code",
   "execution_count": 92,
   "metadata": {},
   "outputs": [
    {
     "name": "stdout",
     "output_type": "stream",
     "text": [
      "3 3 4 3 4\n"
     ]
    },
    {
     "name": "stderr",
     "output_type": "stream",
     "text": [
      "C:\\Users\\Иван\\AppData\\Local\\Temp\\ipykernel_7836\\698381765.py:1: DeprecationWarning: Conversion of an array with ndim > 0 to a scalar is deprecated, and will error in future. Ensure you extract a single element from your array before performing this operation. (Deprecated NumPy 1.25.)\n",
      "  log_res = int(log_regr.predict(np.array(graph_params).reshape(1, -1)))\n",
      "C:\\Users\\Иван\\AppData\\Local\\Temp\\ipykernel_7836\\698381765.py:2: DeprecationWarning: Conversion of an array with ndim > 0 to a scalar is deprecated, and will error in future. Ensure you extract a single element from your array before performing this operation. (Deprecated NumPy 1.25.)\n",
      "  lin_res = int(lin_regr.predict(np.array(graph_params).reshape(1, -1)))\n",
      "C:\\Users\\Иван\\AppData\\Local\\Temp\\ipykernel_7836\\698381765.py:3: DeprecationWarning: Conversion of an array with ndim > 0 to a scalar is deprecated, and will error in future. Ensure you extract a single element from your array before performing this operation. (Deprecated NumPy 1.25.)\n",
      "  svc_res = int(svc.predict(np.array(graph_params).reshape(1, -1)))\n",
      "C:\\Users\\Иван\\AppData\\Local\\Temp\\ipykernel_7836\\698381765.py:4: DeprecationWarning: Conversion of an array with ndim > 0 to a scalar is deprecated, and will error in future. Ensure you extract a single element from your array before performing this operation. (Deprecated NumPy 1.25.)\n",
      "  bayes_res = int(bayes.predict(np.array(graph_params).reshape(1, -1)))\n",
      "C:\\Users\\Иван\\AppData\\Local\\Temp\\ipykernel_7836\\698381765.py:5: DeprecationWarning: Conversion of an array with ndim > 0 to a scalar is deprecated, and will error in future. Ensure you extract a single element from your array before performing this operation. (Deprecated NumPy 1.25.)\n",
      "  trees_res = int(trees.predict(np.array(graph_params).reshape(1, -1)))\n"
     ]
    }
   ],
   "source": [
    "log_res = int(log_regr.predict(np.array(graph_params).reshape(1, -1)))\n",
    "lin_res = int(lin_regr.predict(np.array(graph_params).reshape(1, -1)))\n",
    "svc_res = int(svc.predict(np.array(graph_params).reshape(1, -1)))\n",
    "bayes_res = int(bayes.predict(np.array(graph_params).reshape(1, -1)))\n",
    "trees_res = int(trees.predict(np.array(graph_params).reshape(1, -1)))\n",
    "\n",
    "print(log_res, lin_res, svc_res, bayes_res, trees_res)"
   ]
  }
 ],
 "metadata": {
  "kernelspec": {
   "display_name": "Python 3",
   "language": "python",
   "name": "python3"
  },
  "language_info": {
   "codemirror_mode": {
    "name": "ipython",
    "version": 3
   },
   "file_extension": ".py",
   "mimetype": "text/x-python",
   "name": "python",
   "nbconvert_exporter": "python",
   "pygments_lexer": "ipython3",
   "version": "3.10.11"
  }
 },
 "nbformat": 4,
 "nbformat_minor": 2
}
