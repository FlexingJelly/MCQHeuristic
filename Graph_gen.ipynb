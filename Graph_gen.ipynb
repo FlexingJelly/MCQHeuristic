{
 "cells": [
  {
   "cell_type": "code",
   "execution_count": 1,
   "metadata": {},
   "outputs": [],
   "source": [
    "import networkx as nx\n",
    "import numpy as np\n",
    "\n",
    "params = [[150, 0.95], [200, 0.95], [300, 0.85], [400, 0.6], [500, 0.6], [1000, 0.4], [1500, 0.4]]"
   ]
  },
  {
   "cell_type": "code",
   "execution_count": 2,
   "metadata": {},
   "outputs": [],
   "source": [
    "for i in range(len(params)):\n",
    "    limit = int(params[i][1] // 0.05)\n",
    "    for j in range(limit + 1):\n",
    "        for k in range(10):\n",
    "            possibility = (j + 1) * 0.05\n",
    "            networkx_grapf = nx.erdos_renyi_graph(params[i][0], possibility)\n",
    "            array_graph = nx.to_numpy_array(networkx_grapf)\n",
    "            filename = \"graphI\" + str(params[i][0]) + \"I\" + str(int(possibility * 100)) + \"I\" + str(k) + \".csv\"\n",
    "            open(filename, 'a').close()\n",
    "            open(filename, 'w').close()\n",
    "            np.savetxt(filename, array_graph, delimiter = \" ,\")"
   ]
  },
  {
   "cell_type": "code",
   "execution_count": 3,
   "metadata": {},
   "outputs": [],
   "source": [
    "# for i in range(len(params)):\n",
    "#     limit = int(params[i][1] // 0.05)\n",
    "#     for j in range(limit + 1):\n",
    "#         for k in range(10):\n",
    "#             possibility = (j + 1) * 0.05\n",
    "#             filename = \"graphI\" + str(params[i][0]) + \"I\" + str(int(possibility * 100)) + \"I\" + str(k) + \".csv\"\n",
    "#             graph = np.genfromtxt(filename, delimiter = \" ,\")"
   ]
  }
 ],
 "metadata": {
  "kernelspec": {
   "display_name": "Python 3",
   "language": "python",
   "name": "python3"
  },
  "language_info": {
   "codemirror_mode": {
    "name": "ipython",
    "version": 3
   },
   "file_extension": ".py",
   "mimetype": "text/x-python",
   "name": "python",
   "nbconvert_exporter": "python",
   "pygments_lexer": "ipython3",
   "version": "3.10.11"
  }
 },
 "nbformat": 4,
 "nbformat_minor": 2
}
